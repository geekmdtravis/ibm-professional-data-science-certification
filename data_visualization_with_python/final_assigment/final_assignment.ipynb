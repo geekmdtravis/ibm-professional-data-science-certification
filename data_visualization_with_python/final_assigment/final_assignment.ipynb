{
 "cells": [
  {
   "cell_type": "code",
   "execution_count": 4,
   "metadata": {},
   "outputs": [
    {
     "output_type": "execute_result",
     "data": {
      "text/plain": "                   Unnamed: 0  ...  Not interested\n0   Big Data (Spark / Hadoop)  ...             127\n1  Data Analysis / Statistics  ...              60\n2             Data Journalism  ...             610\n3          Data Visualization  ...             102\n4               Deep Learning  ...             136\n\n[5 rows x 4 columns]",
      "text/html": "<div>\n<style scoped>\n    .dataframe tbody tr th:only-of-type {\n        vertical-align: middle;\n    }\n\n    .dataframe tbody tr th {\n        vertical-align: top;\n    }\n\n    .dataframe thead th {\n        text-align: right;\n    }\n</style>\n<table border=\"1\" class=\"dataframe\">\n  <thead>\n    <tr style=\"text-align: right;\">\n      <th></th>\n      <th>Unnamed: 0</th>\n      <th>Very interested</th>\n      <th>Somewhat interested</th>\n      <th>Not interested</th>\n    </tr>\n  </thead>\n  <tbody>\n    <tr>\n      <th>0</th>\n      <td>Big Data (Spark / Hadoop)</td>\n      <td>1332</td>\n      <td>729</td>\n      <td>127</td>\n    </tr>\n    <tr>\n      <th>1</th>\n      <td>Data Analysis / Statistics</td>\n      <td>1688</td>\n      <td>444</td>\n      <td>60</td>\n    </tr>\n    <tr>\n      <th>2</th>\n      <td>Data Journalism</td>\n      <td>429</td>\n      <td>1081</td>\n      <td>610</td>\n    </tr>\n    <tr>\n      <th>3</th>\n      <td>Data Visualization</td>\n      <td>1340</td>\n      <td>734</td>\n      <td>102</td>\n    </tr>\n    <tr>\n      <th>4</th>\n      <td>Deep Learning</td>\n      <td>1263</td>\n      <td>770</td>\n      <td>136</td>\n    </tr>\n  </tbody>\n</table>\n</div>"
     },
     "metadata": {},
     "execution_count": 4
    }
   ],
   "source": [
    "import pandas as pd \n",
    "\n",
    "df_survey = pd.read_csv(r'Topic_Survey_Assignment.csv')\n",
    "df_survey.head()"
   ]
  },
  {
   "cell_type": "code",
   "execution_count": null,
   "metadata": {},
   "outputs": [],
   "source": []
  }
 ],
 "metadata": {
  "language_info": {
   "codemirror_mode": {
    "name": "ipython",
    "version": 3
   },
   "file_extension": ".py",
   "mimetype": "text/x-python",
   "name": "python",
   "nbconvert_exporter": "python",
   "pygments_lexer": "ipython3",
   "version": "3.7.6-final"
  },
  "orig_nbformat": 2,
  "kernelspec": {
   "name": "python3",
   "display_name": "Python 3"
  }
 },
 "nbformat": 4,
 "nbformat_minor": 2
}